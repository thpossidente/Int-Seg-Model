{
 "cells": [
  {
   "cell_type": "markdown",
   "metadata": {},
   "source": [
    "# Supervised ANNs for Mutual Information Investigation\n",
    "## Thomas Possidente"
   ]
  },
  {
   "cell_type": "markdown",
   "metadata": {},
   "source": [
    "### Imports and Initializations"
   ]
  },
  {
   "cell_type": "code",
   "execution_count": 87,
   "metadata": {},
   "outputs": [],
   "source": [
    "# ANN Building and Visualization Imports\n",
    "import keras\n",
    "from keras import backend as K\n",
    "from keras import optimizers, losses\n",
    "from keras.engine.topology import Layer\n",
    "from keras.models import Sequential\n",
    "from keras.layers import Dense, Conv2D, Flatten\n",
    "import tensorflow as tf\n",
    "from keras.callbacks import LambdaCallback\n",
    "from keras.utils import to_categorical\n",
    "import matplotlib.pyplot as plt\n",
    "\n",
    "\n",
    "\n",
    "# Standard Imports\n",
    "import pandas as pd\n",
    "import numpy as np\n",
    "import math\n",
    "\n",
    "# Value Inits - Specify as needed\n",
    "num_inputs = int(5000)  # number of dummy images in set\n",
    "size = int(16)          # Dimension of each dummy image should be size*size\n",
    "RF_size = int(4)        # Dimensions of the RF to be analyzed should be RF_size*RF_size\n",
    "noise = 0.99             # percentage (as decimal) of input values that will be flipped \n",
    "\n",
    "# Value Inits - Leave these alone\n",
    "num_of_RFs = int((size*size) / (RF_size*RF_size))\n",
    "inputs_by_RF = np.empty([(num_inputs * size), size])\n"
   ]
  },
  {
   "cell_type": "markdown",
   "metadata": {},
   "source": [
    "### Reading in Data"
   ]
  },
  {
   "cell_type": "code",
   "execution_count": 88,
   "metadata": {},
   "outputs": [],
   "source": [
    "inputs = pd.read_csv('test.csv')\n",
    "inputs = inputs.drop('X1', axis = 0) # Taking out col names\n",
    "inputs = inputs.apply(pd.to_numeric)  # converting to floats\n",
    "\n",
    "inputs = inputs.values # convert to np ndarray\n",
    "inputs = inputs.reshape(num_inputs, size, size,1) # reshape to desired dims (5000 examples, 16*16 image, 1 channel)\n",
    "flattened_inputs = inputs.reshape(num_inputs, size*size)"
   ]
  },
  {
   "cell_type": "markdown",
   "metadata": {},
   "source": [
    "### Creating Labels"
   ]
  },
  {
   "cell_type": "code",
   "execution_count": 89,
   "metadata": {},
   "outputs": [],
   "source": [
    "labels = np.zeros(np.shape(flattened_inputs)[0])\n",
    "storage = np.zeros(np.shape(flattened_inputs))\n",
    "count = 0\n",
    "\n",
    "for i in range(np.shape(flattened_inputs)[0]):\n",
    "    if(~((flattened_inputs[i] == storage).all(1).any())):\n",
    "        labels[i] = count\n",
    "        storage[i] = flattened_inputs[i]\n",
    "        count += 1\n",
    "    elif((flattened_inputs[i] == storage).all(1).any()):\n",
    "        label_index = np.where((flattened_inputs[i] == storage).all(1))\n",
    "        correct_label = labels[label_index]\n",
    "        storage[i] = flattened_inputs[i]\n",
    "        labels[i] = correct_label[0]\n",
    "        \n",
    "labels = labels.astype(int)\n",
    "labels = to_categorical(labels)\n",
    "\n",
    "    "
   ]
  },
  {
   "cell_type": "markdown",
   "metadata": {},
   "source": [
    "### Adding Noise to Inputs"
   ]
  },
  {
   "cell_type": "code",
   "execution_count": 90,
   "metadata": {},
   "outputs": [],
   "source": [
    "for n in range(np.shape(flattened_inputs)[0]):\n",
    "    indices_to_flip = np.random.choice(int(size*size), math.ceil(size*size * noise), replace = False)\n",
    "    flattened_inputs[indices_to_flip] = 1 - flattened_inputs[indices_to_flip]\n",
    "\n",
    "inputs = flattened_inputs.reshape(num_inputs, size, size, 1)\n"
   ]
  },
  {
   "cell_type": "markdown",
   "metadata": {},
   "source": [
    "### Building Network"
   ]
  },
  {
   "cell_type": "code",
   "execution_count": 91,
   "metadata": {},
   "outputs": [
    {
     "name": "stdout",
     "output_type": "stream",
     "text": [
      "_________________________________________________________________\n",
      "Layer (type)                 Output Shape              Param #   \n",
      "=================================================================\n",
      "conv2d_18 (Conv2D)           (None, 4, 4, 4)           68        \n",
      "_________________________________________________________________\n",
      "flatten_18 (Flatten)         (None, 64)                0         \n",
      "_________________________________________________________________\n",
      "dense_21 (Dense)             (None, 256)               16640     \n",
      "=================================================================\n",
      "Total params: 16,708\n",
      "Trainable params: 16,708\n",
      "Non-trainable params: 0\n",
      "_________________________________________________________________\n"
     ]
    }
   ],
   "source": [
    "model = Sequential()\n",
    "model.add(Conv2D(input_shape = (16,16,1), filters=4, kernel_size = RF_size, strides = RF_size, activation = 'relu'))\n",
    "model.add(Flatten())\n",
    "model.add(Dense(256, activation = 'softmax'))\n",
    "\n",
    "model.summary()"
   ]
  },
  {
   "cell_type": "code",
   "execution_count": 92,
   "metadata": {},
   "outputs": [],
   "source": [
    "model.compile(optimizer = optimizers.adam(lr = 0.001), loss = 'categorical_crossentropy', metrics=['accuracy'])"
   ]
  },
  {
   "cell_type": "code",
   "execution_count": 93,
   "metadata": {},
   "outputs": [
    {
     "name": "stdout",
     "output_type": "stream",
     "text": [
      "Train on 3750 samples, validate on 1250 samples\n",
      "Epoch 1/30\n",
      "3750/3750 [==============================] - 2s 438us/step - loss: 5.4781 - acc: 0.0243 - val_loss: 5.3243 - val_acc: 0.0752\n",
      "Epoch 2/30\n",
      "3750/3750 [==============================] - 1s 169us/step - loss: 5.1344 - acc: 0.1195 - val_loss: 4.8486 - val_acc: 0.1672\n",
      "Epoch 3/30\n",
      "3750/3750 [==============================] - 1s 172us/step - loss: 4.5351 - acc: 0.2789 - val_loss: 4.1405 - val_acc: 0.3512\n",
      "Epoch 4/30\n",
      "3750/3750 [==============================] - 1s 171us/step - loss: 3.7735 - acc: 0.4643 - val_loss: 3.3216 - val_acc: 0.4784\n",
      "Epoch 5/30\n",
      "3750/3750 [==============================] - 1s 173us/step - loss: 2.9970 - acc: 0.6088 - val_loss: 2.5311 - val_acc: 0.6552\n",
      "Epoch 6/30\n",
      "3750/3750 [==============================] - 1s 158us/step - loss: 2.3371 - acc: 0.7429 - val_loss: 1.8911 - val_acc: 0.8216\n",
      "Epoch 7/30\n",
      "3750/3750 [==============================] - 1s 169us/step - loss: 1.8435 - acc: 0.8757 - val_loss: 1.4128 - val_acc: 0.9080\n",
      "Epoch 8/30\n",
      "3750/3750 [==============================] - 1s 170us/step - loss: 1.4966 - acc: 0.9237 - val_loss: 1.0737 - val_acc: 0.9640\n",
      "Epoch 9/30\n",
      "3750/3750 [==============================] - 1s 169us/step - loss: 1.2612 - acc: 0.9477 - val_loss: 0.8299 - val_acc: 0.9960\n",
      "Epoch 10/30\n",
      "3750/3750 [==============================] - 1s 171us/step - loss: 1.0953 - acc: 0.9645 - val_loss: 0.6642 - val_acc: 0.9992\n",
      "Epoch 11/30\n",
      "3750/3750 [==============================] - 1s 172us/step - loss: 0.9815 - acc: 0.9653 - val_loss: 0.5398 - val_acc: 1.0000\n",
      "Epoch 12/30\n",
      "3750/3750 [==============================] - 1s 160us/step - loss: 0.8992 - acc: 0.9664 - val_loss: 0.4510 - val_acc: 1.0000\n",
      "Epoch 13/30\n",
      "3750/3750 [==============================] - 1s 159us/step - loss: 0.8366 - acc: 0.9664 - val_loss: 0.3805 - val_acc: 1.0000\n",
      "Epoch 14/30\n",
      "3750/3750 [==============================] - 1s 161us/step - loss: 0.7878 - acc: 0.9664 - val_loss: 0.3290 - val_acc: 1.0000\n",
      "Epoch 15/30\n",
      "3750/3750 [==============================] - 1s 155us/step - loss: 0.7496 - acc: 0.9664 - val_loss: 0.2866 - val_acc: 1.0000\n",
      "Epoch 16/30\n",
      "3750/3750 [==============================] - 1s 156us/step - loss: 0.7181 - acc: 0.9664 - val_loss: 0.2525 - val_acc: 1.0000\n",
      "Epoch 17/30\n",
      "3750/3750 [==============================] - 1s 164us/step - loss: 0.6920 - acc: 0.9664 - val_loss: 0.2251 - val_acc: 1.0000\n",
      "Epoch 18/30\n",
      "3750/3750 [==============================] - 1s 162us/step - loss: 0.6706 - acc: 0.9664 - val_loss: 0.2040 - val_acc: 1.0000\n",
      "Epoch 19/30\n",
      "3750/3750 [==============================] - 1s 158us/step - loss: 0.6518 - acc: 0.9664 - val_loss: 0.1845 - val_acc: 1.0000\n",
      "Epoch 20/30\n",
      "3750/3750 [==============================] - 1s 153us/step - loss: 0.6345 - acc: 0.9664 - val_loss: 0.1693 - val_acc: 1.0000\n",
      "Epoch 21/30\n",
      "3750/3750 [==============================] - 1s 158us/step - loss: 0.6194 - acc: 0.9664 - val_loss: 0.1575 - val_acc: 1.0000\n",
      "Epoch 22/30\n",
      "3750/3750 [==============================] - 1s 173us/step - loss: 0.6058 - acc: 0.9664 - val_loss: 0.1464 - val_acc: 1.0000\n",
      "Epoch 23/30\n",
      "3750/3750 [==============================] - 1s 165us/step - loss: 0.5944 - acc: 0.9664 - val_loss: 0.1368 - val_acc: 1.0000\n",
      "Epoch 24/30\n",
      "3750/3750 [==============================] - 1s 159us/step - loss: 0.5839 - acc: 0.9664 - val_loss: 0.1267 - val_acc: 1.0000\n",
      "Epoch 25/30\n",
      "3750/3750 [==============================] - 1s 171us/step - loss: 0.5736 - acc: 0.9664 - val_loss: 0.1204 - val_acc: 1.0000\n",
      "Epoch 26/30\n",
      "3750/3750 [==============================] - 1s 162us/step - loss: 0.5633 - acc: 0.9664 - val_loss: 0.1155 - val_acc: 1.0000\n",
      "Epoch 27/30\n",
      "3750/3750 [==============================] - 1s 165us/step - loss: 0.5545 - acc: 0.9664 - val_loss: 0.1094 - val_acc: 1.0000\n",
      "Epoch 28/30\n",
      "3750/3750 [==============================] - 1s 157us/step - loss: 0.5455 - acc: 0.9664 - val_loss: 0.1050 - val_acc: 1.0000\n",
      "Epoch 29/30\n",
      "3750/3750 [==============================] - 1s 161us/step - loss: 0.5368 - acc: 0.9664 - val_loss: 0.1018 - val_acc: 1.0000\n",
      "Epoch 30/30\n",
      "3750/3750 [==============================] - 1s 164us/step - loss: 0.5290 - acc: 0.9664 - val_loss: 0.0978 - val_acc: 1.0000\n"
     ]
    }
   ],
   "source": [
    "history = model.fit(x = inputs.reshape(num_inputs, size, size, 1), validation_split = 0.25, y = labels, batch_size = 100, epochs = 30)"
   ]
  },
  {
   "cell_type": "code",
   "execution_count": 86,
   "metadata": {},
   "outputs": [
    {
     "name": "stdout",
     "output_type": "stream",
     "text": [
      "dict_keys(['val_loss', 'val_acc', 'loss', 'acc'])\n"
     ]
    },
    {
     "data": {
      "image/png": "[encoded data removed]",
      "text/plain": [
       "<matplotlib.figure.Figure at 0x2c5f17979b0>"
      ]
     },
     "metadata": {},
     "output_type": "display_data"
    },
    {
     "data": {
      "image/png": "[encoded data removed]",
      "text/plain": [
       "<matplotlib.figure.Figure at 0x2c5f17936a0>"
      ]
     },
     "metadata": {},
     "output_type": "display_data"
    }
   ],
   "source": [
    "print(history.history.keys())\n",
    "# summarize history for accuracy\n",
    "plt.plot(history.history['acc'])\n",
    "plt.plot(history.history['val_acc'])\n",
    "plt.title('model accuracy')\n",
    "plt.ylabel('accuracy')\n",
    "plt.xlabel('epoch')\n",
    "plt.legend(['train', 'test'], loc='upper left')\n",
    "plt.show()\n",
    "# summarize history for loss\n",
    "plt.plot(history.history['loss'])\n",
    "plt.plot(history.history['val_loss'])\n",
    "plt.title('model loss')\n",
    "plt.ylabel('loss')\n",
    "plt.xlabel('epoch')\n",
    "plt.legend(['train', 'test'], loc='upper left')\n",
    "plt.show()"
   ]
  },
  {
   "cell_type": "code",
   "execution_count": null,
   "metadata": {},
   "outputs": [],
   "source": []
  }
 ],
 "metadata": {
  "kernelspec": {
   "display_name": "Python 3",
   "language": "python",
   "name": "python3"
  },
  "language_info": {
   "codemirror_mode": {
    "name": "ipython",
    "version": 3
   },
   "file_extension": ".py",
   "mimetype": "text/x-python",
   "name": "python",
   "nbconvert_exporter": "python",
   "pygments_lexer": "ipython3",
   "version": "3.6.4"
  }
 },
 "nbformat": 4,
 "nbformat_minor": 2
}
