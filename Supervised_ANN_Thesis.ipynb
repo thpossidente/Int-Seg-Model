{
 "cells": [
  {
   "cell_type": "markdown",
   "metadata": {},
   "source": [
    "# Supervised ANNs for Mutual Information Investigation\n",
    "## Thomas Possidente"
   ]
  },
  {
   "cell_type": "markdown",
   "metadata": {},
   "source": [
    "### Imports and Initializations"
   ]
  },
  {
   "cell_type": "code",
   "execution_count": 425,
   "metadata": {},
   "outputs": [],
   "source": [
    "# ANN Building and Visualization Imports\n",
    "import keras\n",
    "from keras import backend as K\n",
    "from keras import optimizers, losses\n",
    "from keras.engine.topology import Layer\n",
    "from keras.models import Sequential\n",
    "from keras.layers import Dense, Conv2D, Flatten\n",
    "import tensorflow as tf\n",
    "from keras.callbacks import LambdaCallback\n",
    "from keras.utils import to_categorical\n",
    "import matplotlib.pyplot as plt\n",
    "\n",
    "\n",
    "\n",
    "# Standard Imports\n",
    "import pandas as pd\n",
    "import numpy as np\n",
    "import math\n",
    "\n",
    "# Value Inits - Specify as needed\n",
    "num_inputs = int(5000)  # number of dummy images in set\n",
    "size = int(16)          # Dimension of each dummy image should be size*size\n",
    "RF_size = int(2)        # Dimensions of the RF to be analyzed should be RF_size*RF_size\n",
    "noise = 0.1             # percentage (as decimal) of input values that will be flipped \n",
    "\n",
    "# Value Inits - Leave these alone\n",
    "num_of_RFs = int((size*size) / (RF_size*RF_size))\n"
   ]
  },
  {
   "cell_type": "markdown",
   "metadata": {},
   "source": [
    "### Reading in Data"
   ]
  },
  {
   "cell_type": "code",
   "execution_count": 426,
   "metadata": {},
   "outputs": [],
   "source": [
    "inputs = pd.read_csv('test.csv')\n",
    "inputs = inputs.drop('X1', axis = 0) # Taking out col names\n",
    "inputs = inputs.apply(pd.to_numeric)  # converting to floats\n",
    "\n",
    "inputs = inputs.values # convert to np ndarray\n",
    "inputs = inputs.reshape(num_inputs, size, size,1) # reshape to desired dims (5000 examples, 16*16 image, 1 channel)\n",
    "flattened_inputs = inputs.reshape(num_inputs, size*size)"
   ]
  },
  {
   "cell_type": "markdown",
   "metadata": {},
   "source": [
    "### Creating Labels"
   ]
  },
  {
   "cell_type": "code",
   "execution_count": 428,
   "metadata": {},
   "outputs": [],
   "source": [
    "labels = np.zeros(np.shape(flattened_inputs)[0])\n",
    "storage = np.zeros(np.shape(flattened_inputs))\n",
    "count = 0\n",
    "\n",
    "for i in range(np.shape(flattened_inputs)[0]):\n",
    "    if(~((flattened_inputs[i] == storage).all(1).any())):\n",
    "        labels[i] = count\n",
    "        storage[i] = flattened_inputs[i]\n",
    "        count += 1\n",
    "    elif((flattened_inputs[i] == storage).all(1).any()):\n",
    "        label_index = np.where((flattened_inputs[i] == storage).all(1))\n",
    "        correct_label = labels[label_index]\n",
    "        storage[i] = flattened_inputs[i]\n",
    "        labels[i] = correct_label[0]\n",
    "        \n",
    "labels = labels.astype(int)\n",
    "labels = to_categorical(labels)\n",
    "\n",
    "    "
   ]
  },
  {
   "cell_type": "code",
   "execution_count": 429,
   "metadata": {},
   "outputs": [
    {
     "data": {
      "text/plain": [
       "(5120, 256)"
      ]
     },
     "execution_count": 429,
     "metadata": {},
     "output_type": "execute_result"
    }
   ],
   "source": [
    "labels.shape"
   ]
  },
  {
   "cell_type": "markdown",
   "metadata": {},
   "source": [
    "### Cutting Number of Labels Possible to 256 if Necessary"
   ]
  },
  {
   "cell_type": "code",
   "execution_count": 427,
   "metadata": {},
   "outputs": [],
   "source": [
    "inputs = inputs[0:256]\n",
    "inputs = np.repeat(inputs, 20, axis=0)\n",
    "inputs = np.random.permutation(inputs)\n",
    "flattened_inputs = flattened_inputs[0:256]\n",
    "flattened_inputs = np.repeat(flattened_inputs, 20, 0)\n",
    "flattened_inputs = np.random.permutation(flattened_inputs)\n",
    "\n",
    "num_inputs = flattened_inputs.shape[0]\n"
   ]
  },
  {
   "cell_type": "markdown",
   "metadata": {},
   "source": [
    "### Adding Noise to Inputs"
   ]
  },
  {
   "cell_type": "code",
   "execution_count": 431,
   "metadata": {},
   "outputs": [],
   "source": [
    "for n in range(np.shape(flattened_inputs)[0]):\n",
    "    indices_to_flip = np.random.choice(int(size*size), math.ceil(size*size * noise), replace = False)\n",
    "    flattened_inputs[n][indices_to_flip] = 1 - flattened_inputs[n][indices_to_flip]\n",
    "\n",
    "inputs = flattened_inputs.reshape(num_inputs, size, size, 1)\n"
   ]
  },
  {
   "cell_type": "markdown",
   "metadata": {},
   "source": [
    "### Building Network"
   ]
  },
  {
   "cell_type": "code",
   "execution_count": 434,
   "metadata": {},
   "outputs": [
    {
     "name": "stdout",
     "output_type": "stream",
     "text": [
      "_________________________________________________________________\n",
      "Layer (type)                 Output Shape              Param #   \n",
      "=================================================================\n",
      "conv2d_56 (Conv2D)           (None, 8, 8, 4)           20        \n",
      "_________________________________________________________________\n",
      "flatten_56 (Flatten)         (None, 256)               0         \n",
      "_________________________________________________________________\n",
      "dense_56 (Dense)             (None, 256)               65792     \n",
      "=================================================================\n",
      "Total params: 65,812\n",
      "Trainable params: 65,812\n",
      "Non-trainable params: 0\n",
      "_________________________________________________________________\n"
     ]
    }
   ],
   "source": [
    "model = Sequential()\n",
    "model.add(Conv2D(input_shape = (16,16,1), filters=4, kernel_size = RF_size, strides = RF_size, activation = 'relu'))\n",
    "model.add(Flatten())\n",
    "model.add(Dense(256, activation = 'softmax'))\n",
    "\n",
    "model.summary()"
   ]
  },
  {
   "cell_type": "code",
   "execution_count": 435,
   "metadata": {},
   "outputs": [],
   "source": [
    "model.compile(optimizer = optimizers.adam(lr = 0.0005), loss = 'categorical_crossentropy', metrics=['accuracy'])"
   ]
  },
  {
   "cell_type": "code",
   "execution_count": 436,
   "metadata": {
    "scrolled": true
   },
   "outputs": [
    {
     "name": "stdout",
     "output_type": "stream",
     "text": [
      "Train on 3840 samples, validate on 1280 samples\n",
      "Epoch 1/100\n",
      "3840/3840 [==============================] - 3s 842us/step - loss: 5.4801 - acc: 0.0146 - val_loss: 5.2839 - val_acc: 0.0516\n",
      "Epoch 2/100\n",
      "3840/3840 [==============================] - 1s 215us/step - loss: 5.0188 - acc: 0.1680 - val_loss: 4.8240 - val_acc: 0.3070\n",
      "Epoch 3/100\n",
      "3840/3840 [==============================] - 1s 206us/step - loss: 4.4371 - acc: 0.6372 - val_loss: 4.2128 - val_acc: 0.7672\n",
      "Epoch 4/100\n",
      "3840/3840 [==============================] - 1s 215us/step - loss: 3.7207 - acc: 0.9344 - val_loss: 3.4796 - val_acc: 0.9633\n",
      "Epoch 5/100\n",
      "3840/3840 [==============================] - 1s 218us/step - loss: 2.8807 - acc: 0.9953 - val_loss: 2.6170 - val_acc: 1.0000\n",
      "Epoch 6/100\n",
      "3840/3840 [==============================] - 1s 210us/step - loss: 1.9626 - acc: 0.9997 - val_loss: 1.7201 - val_acc: 1.0000\n",
      "Epoch 7/100\n",
      "3840/3840 [==============================] - 1s 214us/step - loss: 1.1429 - acc: 1.0000 - val_loss: 0.9897 - val_acc: 1.0000\n",
      "Epoch 8/100\n",
      "3840/3840 [==============================] - 1s 231us/step - loss: 0.6029 - acc: 1.0000 - val_loss: 0.5545 - val_acc: 1.0000\n",
      "Epoch 9/100\n",
      "3840/3840 [==============================] - 1s 213us/step - loss: 0.3310 - acc: 1.0000 - val_loss: 0.3377 - val_acc: 1.0000\n",
      "Epoch 10/100\n",
      "3840/3840 [==============================] - 1s 250us/step - loss: 0.2036 - acc: 1.0000 - val_loss: 0.2276 - val_acc: 1.0000\n",
      "Epoch 11/100\n",
      "3840/3840 [==============================] - 1s 195us/step - loss: 0.1388 - acc: 1.0000 - val_loss: 0.1657 - val_acc: 1.0000\n",
      "Epoch 12/100\n",
      "3840/3840 [==============================] - 1s 220us/step - loss: 0.1018 - acc: 1.0000 - val_loss: 0.1275 - val_acc: 1.0000\n",
      "Epoch 13/100\n",
      "3840/3840 [==============================] - 1s 213us/step - loss: 0.0786 - acc: 1.0000 - val_loss: 0.1019 - val_acc: 1.0000\n",
      "Epoch 14/100\n",
      "3840/3840 [==============================] - 1s 209us/step - loss: 0.0629 - acc: 1.0000 - val_loss: 0.0839 - val_acc: 1.0000\n",
      "Epoch 15/100\n",
      "3840/3840 [==============================] - 1s 204us/step - loss: 0.0518 - acc: 1.0000 - val_loss: 0.0706 - val_acc: 1.0000\n",
      "Epoch 16/100\n",
      "3840/3840 [==============================] - 1s 210us/step - loss: 0.0435 - acc: 1.0000 - val_loss: 0.0604 - val_acc: 1.0000\n",
      "Epoch 17/100\n",
      "3840/3840 [==============================] - 1s 220us/step - loss: 0.0372 - acc: 1.0000 - val_loss: 0.0525 - val_acc: 1.0000\n",
      "Epoch 18/100\n",
      "3840/3840 [==============================] - 1s 218us/step - loss: 0.0323 - acc: 1.0000 - val_loss: 0.0461 - val_acc: 1.0000\n",
      "Epoch 19/100\n",
      "3840/3840 [==============================] - 1s 196us/step - loss: 0.0283 - acc: 1.0000 - val_loss: 0.0409 - val_acc: 1.0000\n",
      "Epoch 20/100\n",
      "3840/3840 [==============================] - 1s 240us/step - loss: 0.0250 - acc: 1.0000 - val_loss: 0.0366 - val_acc: 1.0000\n",
      "Epoch 21/100\n",
      "3840/3840 [==============================] - 1s 188us/step - loss: 0.0223 - acc: 1.0000 - val_loss: 0.0329 - val_acc: 1.0000\n",
      "Epoch 22/100\n",
      "3840/3840 [==============================] - 1s 209us/step - loss: 0.0201 - acc: 1.0000 - val_loss: 0.0298 - val_acc: 1.0000\n",
      "Epoch 23/100\n",
      "3840/3840 [==============================] - 1s 193us/step - loss: 0.0181 - acc: 1.0000 - val_loss: 0.0272 - val_acc: 1.0000\n",
      "Epoch 24/100\n",
      "3840/3840 [==============================] - 1s 211us/step - loss: 0.0165 - acc: 1.0000 - val_loss: 0.0249 - val_acc: 1.0000\n",
      "Epoch 25/100\n",
      "3840/3840 [==============================] - 1s 200us/step - loss: 0.0151 - acc: 1.0000 - val_loss: 0.0229 - val_acc: 1.0000\n",
      "Epoch 26/100\n",
      "3840/3840 [==============================] - 1s 227us/step - loss: 0.0138 - acc: 1.0000 - val_loss: 0.0211 - val_acc: 1.0000\n",
      "Epoch 27/100\n",
      "3840/3840 [==============================] - 1s 201us/step - loss: 0.0127 - acc: 1.0000 - val_loss: 0.0196 - val_acc: 1.0000\n",
      "Epoch 28/100\n",
      "3840/3840 [==============================] - 1s 225us/step - loss: 0.0117 - acc: 1.0000 - val_loss: 0.0182 - val_acc: 1.0000\n",
      "Epoch 29/100\n",
      "3840/3840 [==============================] - 1s 213us/step - loss: 0.0109 - acc: 1.0000 - val_loss: 0.0169 - val_acc: 1.0000\n",
      "Epoch 30/100\n",
      "3840/3840 [==============================] - 1s 214us/step - loss: 0.0101 - acc: 1.0000 - val_loss: 0.0158 - val_acc: 1.0000\n",
      "Epoch 31/100\n",
      "3840/3840 [==============================] - 1s 200us/step - loss: 0.0094 - acc: 1.0000 - val_loss: 0.0148 - val_acc: 1.0000\n",
      "Epoch 32/100\n",
      "3840/3840 [==============================] - 1s 215us/step - loss: 0.0088 - acc: 1.0000 - val_loss: 0.0139 - val_acc: 1.0000\n",
      "Epoch 33/100\n",
      "3840/3840 [==============================] - 1s 204us/step - loss: 0.0082 - acc: 1.0000 - val_loss: 0.0131 - val_acc: 1.0000\n",
      "Epoch 34/100\n",
      "3840/3840 [==============================] - 1s 237us/step - loss: 0.0077 - acc: 1.0000 - val_loss: 0.0123 - val_acc: 1.0000\n",
      "Epoch 35/100\n",
      "3840/3840 [==============================] - 1s 210us/step - loss: 0.0073 - acc: 1.0000 - val_loss: 0.0116 - val_acc: 1.0000\n",
      "Epoch 36/100\n",
      "3840/3840 [==============================] - 1s 200us/step - loss: 0.0068 - acc: 1.0000 - val_loss: 0.0110 - val_acc: 1.0000\n",
      "Epoch 37/100\n",
      "3840/3840 [==============================] - 1s 195us/step - loss: 0.0065 - acc: 1.0000 - val_loss: 0.0104 - val_acc: 1.0000\n",
      "Epoch 38/100\n",
      "3840/3840 [==============================] - 1s 204us/step - loss: 0.0061 - acc: 1.0000 - val_loss: 0.0099 - val_acc: 1.0000\n",
      "Epoch 39/100\n",
      "3840/3840 [==============================] - 1s 212us/step - loss: 0.0058 - acc: 1.0000 - val_loss: 0.0094 - val_acc: 1.0000\n",
      "Epoch 40/100\n",
      "3840/3840 [==============================] - 1s 201us/step - loss: 0.0055 - acc: 1.0000 - val_loss: 0.0089 - val_acc: 1.0000\n",
      "Epoch 41/100\n",
      "3840/3840 [==============================] - 1s 188us/step - loss: 0.0052 - acc: 1.0000 - val_loss: 0.0085 - val_acc: 1.0000\n",
      "Epoch 42/100\n",
      "3840/3840 [==============================] - 1s 185us/step - loss: 0.0049 - acc: 1.0000 - val_loss: 0.0081 - val_acc: 1.0000\n",
      "Epoch 43/100\n",
      "3840/3840 [==============================] - 1s 206us/step - loss: 0.0047 - acc: 1.0000 - val_loss: 0.0077 - val_acc: 1.0000\n",
      "Epoch 44/100\n",
      "3840/3840 [==============================] - 1s 198us/step - loss: 0.0045 - acc: 1.0000 - val_loss: 0.0074 - val_acc: 1.0000\n",
      "Epoch 45/100\n",
      "3840/3840 [==============================] - 1s 222us/step - loss: 0.0043 - acc: 1.0000 - val_loss: 0.0070 - val_acc: 1.0000\n",
      "Epoch 46/100\n",
      "3840/3840 [==============================] - 1s 218us/step - loss: 0.0041 - acc: 1.0000 - val_loss: 0.0067 - val_acc: 1.0000\n",
      "Epoch 47/100\n",
      "3840/3840 [==============================] - 1s 254us/step - loss: 0.0039 - acc: 1.0000 - val_loss: 0.0065 - val_acc: 1.0000\n",
      "Epoch 48/100\n",
      "3840/3840 [==============================] - 1s 264us/step - loss: 0.0037 - acc: 1.0000 - val_loss: 0.0062 - val_acc: 1.0000\n",
      "Epoch 49/100\n",
      "3840/3840 [==============================] - 1s 244us/step - loss: 0.0035 - acc: 1.0000 - val_loss: 0.0059 - val_acc: 1.0000\n",
      "Epoch 50/100\n",
      "3840/3840 [==============================] - 1s 242us/step - loss: 0.0034 - acc: 1.0000 - val_loss: 0.0057 - val_acc: 1.0000\n",
      "Epoch 51/100\n",
      "3840/3840 [==============================] - 1s 250us/step - loss: 0.0032 - acc: 1.0000 - val_loss: 0.0055 - val_acc: 1.0000\n",
      "Epoch 52/100\n",
      "3840/3840 [==============================] - 1s 251us/step - loss: 0.0031 - acc: 1.0000 - val_loss: 0.0053 - val_acc: 1.0000\n",
      "Epoch 53/100\n",
      "3840/3840 [==============================] - 1s 254us/step - loss: 0.0030 - acc: 1.0000 - val_loss: 0.0051 - val_acc: 1.0000\n",
      "Epoch 54/100\n",
      "3840/3840 [==============================] - 1s 269us/step - loss: 0.0029 - acc: 1.0000 - val_loss: 0.0049 - val_acc: 1.0000\n",
      "Epoch 55/100\n",
      "3840/3840 [==============================] - 1s 255us/step - loss: 0.0027 - acc: 1.0000 - val_loss: 0.0047 - val_acc: 1.0000\n",
      "Epoch 56/100\n",
      "3840/3840 [==============================] - 1s 247us/step - loss: 0.0026 - acc: 1.0000 - val_loss: 0.0045 - val_acc: 1.0000\n",
      "Epoch 57/100\n",
      "3840/3840 [==============================] - 1s 260us/step - loss: 0.0025 - acc: 1.0000 - val_loss: 0.0043 - val_acc: 1.0000\n",
      "Epoch 58/100\n",
      "3840/3840 [==============================] - 1s 290us/step - loss: 0.0024 - acc: 1.0000 - val_loss: 0.0042 - val_acc: 1.0000\n",
      "Epoch 59/100\n",
      "3840/3840 [==============================] - 1s 268us/step - loss: 0.0024 - acc: 1.0000 - val_loss: 0.0040 - val_acc: 1.0000\n",
      "Epoch 60/100\n"
     ]
    },
    {
     "name": "stdout",
     "output_type": "stream",
     "text": [
      "3840/3840 [==============================] - 1s 206us/step - loss: 0.0023 - acc: 1.0000 - val_loss: 0.0039 - val_acc: 1.0000\n",
      "Epoch 61/100\n",
      "3840/3840 [==============================] - 1s 210us/step - loss: 0.0022 - acc: 1.0000 - val_loss: 0.0038 - val_acc: 1.0000\n",
      "Epoch 62/100\n",
      "3840/3840 [==============================] - 1s 206us/step - loss: 0.0021 - acc: 1.0000 - val_loss: 0.0036 - val_acc: 1.0000\n",
      "Epoch 63/100\n",
      "3840/3840 [==============================] - 1s 219us/step - loss: 0.0020 - acc: 1.0000 - val_loss: 0.0035 - val_acc: 1.0000\n",
      "Epoch 64/100\n",
      "3840/3840 [==============================] - 1s 202us/step - loss: 0.0020 - acc: 1.0000 - val_loss: 0.0034 - val_acc: 1.0000\n",
      "Epoch 65/100\n",
      "3840/3840 [==============================] - 1s 208us/step - loss: 0.0019 - acc: 1.0000 - val_loss: 0.0033 - val_acc: 1.0000\n",
      "Epoch 66/100\n",
      "3840/3840 [==============================] - 1s 212us/step - loss: 0.0018 - acc: 1.0000 - val_loss: 0.0032 - val_acc: 1.0000\n",
      "Epoch 67/100\n",
      "3840/3840 [==============================] - 1s 219us/step - loss: 0.0018 - acc: 1.0000 - val_loss: 0.0031 - val_acc: 1.0000\n",
      "Epoch 68/100\n",
      "3840/3840 [==============================] - 1s 240us/step - loss: 0.0017 - acc: 1.0000 - val_loss: 0.0030 - val_acc: 1.0000\n",
      "Epoch 69/100\n",
      "3840/3840 [==============================] - 1s 209us/step - loss: 0.0016 - acc: 1.0000 - val_loss: 0.0029 - val_acc: 1.0000\n",
      "Epoch 70/100\n",
      "3840/3840 [==============================] - 1s 211us/step - loss: 0.0016 - acc: 1.0000 - val_loss: 0.0028 - val_acc: 1.0000\n",
      "Epoch 71/100\n",
      "3840/3840 [==============================] - 1s 205us/step - loss: 0.0015 - acc: 1.0000 - val_loss: 0.0027 - val_acc: 1.0000\n",
      "Epoch 72/100\n",
      "3840/3840 [==============================] - 1s 198us/step - loss: 0.0015 - acc: 1.0000 - val_loss: 0.0026 - val_acc: 1.0000\n",
      "Epoch 73/100\n",
      "3840/3840 [==============================] - 1s 203us/step - loss: 0.0014 - acc: 1.0000 - val_loss: 0.0026 - val_acc: 1.0000\n",
      "Epoch 74/100\n",
      "3840/3840 [==============================] - 1s 198us/step - loss: 0.0014 - acc: 1.0000 - val_loss: 0.0025 - val_acc: 1.0000\n",
      "Epoch 75/100\n",
      "3840/3840 [==============================] - 1s 204us/step - loss: 0.0014 - acc: 1.0000 - val_loss: 0.0024 - val_acc: 1.0000\n",
      "Epoch 76/100\n",
      "3840/3840 [==============================] - 1s 201us/step - loss: 0.0013 - acc: 1.0000 - val_loss: 0.0023 - val_acc: 1.0000\n",
      "Epoch 77/100\n",
      "3840/3840 [==============================] - 1s 198us/step - loss: 0.0013 - acc: 1.0000 - val_loss: 0.0023 - val_acc: 1.0000\n",
      "Epoch 78/100\n",
      "3840/3840 [==============================] - 1s 190us/step - loss: 0.0012 - acc: 1.0000 - val_loss: 0.0022 - val_acc: 1.0000\n",
      "Epoch 79/100\n",
      "3840/3840 [==============================] - 1s 205us/step - loss: 0.0012 - acc: 1.0000 - val_loss: 0.0021 - val_acc: 1.0000\n",
      "Epoch 80/100\n",
      "3840/3840 [==============================] - 1s 191us/step - loss: 0.0012 - acc: 1.0000 - val_loss: 0.0021 - val_acc: 1.0000\n",
      "Epoch 81/100\n",
      "3840/3840 [==============================] - 1s 188us/step - loss: 0.0011 - acc: 1.0000 - val_loss: 0.0020 - val_acc: 1.0000\n",
      "Epoch 82/100\n",
      "3840/3840 [==============================] - 1s 194us/step - loss: 0.0011 - acc: 1.0000 - val_loss: 0.0020 - val_acc: 1.0000\n",
      "Epoch 83/100\n",
      "3840/3840 [==============================] - 1s 199us/step - loss: 0.0011 - acc: 1.0000 - val_loss: 0.0019 - val_acc: 1.0000\n",
      "Epoch 84/100\n",
      "3840/3840 [==============================] - 1s 245us/step - loss: 0.0010 - acc: 1.0000 - val_loss: 0.0019 - val_acc: 1.0000\n",
      "Epoch 85/100\n",
      "3840/3840 [==============================] - 1s 257us/step - loss: 9.9472e-04 - acc: 1.0000 - val_loss: 0.0018 - val_acc: 1.0000\n",
      "Epoch 86/100\n",
      "3840/3840 [==============================] - 1s 251us/step - loss: 9.6596e-04 - acc: 1.0000 - val_loss: 0.0018 - val_acc: 1.0000\n",
      "Epoch 87/100\n",
      "3840/3840 [==============================] - 1s 250us/step - loss: 9.3822e-04 - acc: 1.0000 - val_loss: 0.0017 - val_acc: 1.0000\n",
      "Epoch 88/100\n",
      "3840/3840 [==============================] - 1s 250us/step - loss: 9.1146e-04 - acc: 1.0000 - val_loss: 0.0017 - val_acc: 1.0000\n",
      "Epoch 89/100\n",
      "3840/3840 [==============================] - 1s 232us/step - loss: 8.8563e-04 - acc: 1.0000 - val_loss: 0.0016 - val_acc: 1.0000\n",
      "Epoch 90/100\n",
      "3840/3840 [==============================] - 1s 232us/step - loss: 8.6069e-04 - acc: 1.0000 - val_loss: 0.0016 - val_acc: 1.0000\n",
      "Epoch 91/100\n",
      "3840/3840 [==============================] - 1s 229us/step - loss: 8.3661e-04 - acc: 1.0000 - val_loss: 0.0015 - val_acc: 1.0000\n",
      "Epoch 92/100\n",
      "3840/3840 [==============================] - 1s 241us/step - loss: 8.1334e-04 - acc: 1.0000 - val_loss: 0.0015 - val_acc: 1.0000\n",
      "Epoch 93/100\n",
      "3840/3840 [==============================] - 1s 211us/step - loss: 7.9085e-04 - acc: 1.0000 - val_loss: 0.0015 - val_acc: 1.0000\n",
      "Epoch 94/100\n",
      "3840/3840 [==============================] - 1s 209us/step - loss: 7.6911e-04 - acc: 1.0000 - val_loss: 0.0014 - val_acc: 1.0000\n",
      "Epoch 95/100\n",
      "3840/3840 [==============================] - 1s 232us/step - loss: 7.4809e-04 - acc: 1.0000 - val_loss: 0.0014 - val_acc: 1.0000\n",
      "Epoch 96/100\n",
      "3840/3840 [==============================] - 1s 212us/step - loss: 7.2777e-04 - acc: 1.0000 - val_loss: 0.0014 - val_acc: 1.0000\n",
      "Epoch 97/100\n",
      "3840/3840 [==============================] - 1s 204us/step - loss: 7.0809e-04 - acc: 1.0000 - val_loss: 0.0013 - val_acc: 1.0000\n",
      "Epoch 98/100\n",
      "3840/3840 [==============================] - 1s 239us/step - loss: 6.8906e-04 - acc: 1.0000 - val_loss: 0.0013 - val_acc: 1.0000\n",
      "Epoch 99/100\n",
      "3840/3840 [==============================] - 1s 202us/step - loss: 6.7063e-04 - acc: 1.0000 - val_loss: 0.0013 - val_acc: 1.0000\n",
      "Epoch 100/100\n",
      "3840/3840 [==============================] - 1s 201us/step - loss: 6.5279e-04 - acc: 1.0000 - val_loss: 0.0012 - val_acc: 1.0000\n"
     ]
    }
   ],
   "source": [
    "history = model.fit(x = inputs, validation_split = 0.25, y = labels, batch_size = 100, epochs = 100, shuffle=False)"
   ]
  },
  {
   "cell_type": "code",
   "execution_count": 139,
   "metadata": {},
   "outputs": [
    {
     "name": "stdout",
     "output_type": "stream",
     "text": [
      "dict_keys(['val_loss', 'val_acc', 'loss', 'acc'])\n"
     ]
    },
    {
     "data": {
      "image/png": "[encoded data removed]",
      "text/plain": [
       "<matplotlib.figure.Figure at 0x2c124e13208>"
      ]
     },
     "metadata": {},
     "output_type": "display_data"
    },
    {
     "data": {
      "image/png": "[encoded data removed]",
      "text/plain": [
       "<matplotlib.figure.Figure at 0x2c124e388d0>"
      ]
     },
     "metadata": {},
     "output_type": "display_data"
    }
   ],
   "source": [
    "print(history.history.keys())\n",
    "# summarize history for accuracy\n",
    "plt.plot(history.history['acc'])\n",
    "plt.plot(history.history['val_acc'])\n",
    "plt.title('model accuracy')\n",
    "plt.ylabel('accuracy')\n",
    "plt.xlabel('epoch')\n",
    "plt.legend(['train', 'test'], loc='upper left')\n",
    "plt.show()\n",
    "# summarize history for loss\n",
    "plt.plot(history.history['loss'])\n",
    "plt.plot(history.history['val_loss'])\n",
    "plt.title('model loss')\n",
    "plt.ylabel('loss')\n",
    "plt.xlabel('epoch')\n",
    "plt.legend(['train', 'test'], loc='upper left')\n",
    "plt.show()"
   ]
  },
  {
   "cell_type": "markdown",
   "metadata": {},
   "source": [
    "### TODOS\n",
    "* Run again with 2x2, 3x3, 4x4, 5x5, 6x6, 7x7, 8x8 and 10%, 20%, 30%, 40%, 50% noise. Save outputs and Loss curve\n",
    "* Controls - Work on creating image sets of specific submatrix pattern size (3*3) that have varying levels of MI\n",
    "* Find Image dataset that's binarized (or binarize existing one) and do MI calculations to find max MI. To do this, sample RF sized chunks of an image until stable average MI value is reached\n",
    "* https://people.cs.umass.edu/~marlin/data.shtml, http://vision.lems.brown.edu/content/available-software-and-databases"
   ]
  }
 ],
 "metadata": {
  "kernelspec": {
   "display_name": "Python 3",
   "language": "python",
   "name": "python3"
  },
  "language_info": {
   "codemirror_mode": {
    "name": "ipython",
    "version": 3
   },
   "file_extension": ".py",
   "mimetype": "text/x-python",
   "name": "python",
   "nbconvert_exporter": "python",
   "pygments_lexer": "ipython3",
   "version": "3.6.4"
  }
 },
 "nbformat": 4,
 "nbformat_minor": 2
}
