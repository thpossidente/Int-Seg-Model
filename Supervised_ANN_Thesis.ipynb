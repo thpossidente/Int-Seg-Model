{
 "cells": [
  {
   "cell_type": "markdown",
   "metadata": {},
   "source": [
    "# Supervised ANNs for Mutual Information Investigation\n",
    "## Thomas Possidente"
   ]
  },
  {
   "cell_type": "markdown",
   "metadata": {},
   "source": [
    "### Imports and Initializations"
   ]
  },
  {
   "cell_type": "code",
   "execution_count": 172,
   "metadata": {},
   "outputs": [],
   "source": [
    "# ANN Building and Visualization Imports\n",
    "import keras\n",
    "from keras import backend as K\n",
    "from keras import optimizers, losses\n",
    "from keras.engine.topology import Layer\n",
    "from keras.models import Sequential\n",
    "from keras.layers import Dense, Conv2D, Flatten\n",
    "import tensorflow as tf\n",
    "from keras.callbacks import LambdaCallback\n",
    "from keras.utils import to_categorical\n",
    "import matplotlib.pyplot as plt\n",
    "\n",
    "\n",
    "\n",
    "# Standard Imports\n",
    "import pandas as pd\n",
    "import numpy as np\n",
    "import math\n",
    "\n",
    "# Value Inits - Specify as needed\n",
    "num_inputs = int(5000)  # number of dummy images in set\n",
    "size = int(16)          # Dimension of each dummy image should be size*size\n",
    "RF_size = int(16)        # Dimensions of the RF to be analyzed should be RF_size*RF_size\n",
    "noise = 0.5             # percentage (as decimal) of input values that will be flipped \n",
    "\n",
    "# Value Inits - Leave these alone\n",
    "num_of_RFs = int((size*size) / (RF_size*RF_size))\n"
   ]
  },
  {
   "cell_type": "markdown",
   "metadata": {},
   "source": [
    "### Reading in Data"
   ]
  },
  {
   "cell_type": "code",
   "execution_count": 173,
   "metadata": {},
   "outputs": [],
   "source": [
    "inputs = pd.read_csv('test.csv')\n",
    "inputs = inputs.drop('X1', axis = 0) # Taking out col names\n",
    "inputs = inputs.apply(pd.to_numeric)  # converting to floats\n",
    "\n",
    "inputs = inputs.values # convert to np ndarray\n",
    "inputs = inputs.reshape(num_inputs, size, size,1) # reshape to desired dims (5000 examples, 16*16 image, 1 channel)\n",
    "flattened_inputs = inputs.reshape(num_inputs, size*size)"
   ]
  },
  {
   "cell_type": "markdown",
   "metadata": {},
   "source": [
    "### Creating Labels"
   ]
  },
  {
   "cell_type": "code",
   "execution_count": 16,
   "metadata": {},
   "outputs": [],
   "source": [
    "labels = np.zeros(np.shape(flattened_inputs)[0])\n",
    "storage = np.zeros(np.shape(flattened_inputs))\n",
    "count = 0\n",
    "\n",
    "for i in range(np.shape(flattened_inputs)[0]):\n",
    "    if(~((flattened_inputs[i] == storage).all(1).any())):\n",
    "        labels[i] = count\n",
    "        storage[i] = flattened_inputs[i]\n",
    "        count += 1\n",
    "    elif((flattened_inputs[i] == storage).all(1).any()):\n",
    "        label_index = np.where((flattened_inputs[i] == storage).all(1))\n",
    "        correct_label = labels[label_index]\n",
    "        storage[i] = flattened_inputs[i]\n",
    "        labels[i] = correct_label[0]\n",
    "        \n",
    "labels = labels.astype(int)\n",
    "labels = to_categorical(labels)\n",
    "\n",
    "    "
   ]
  },
  {
   "cell_type": "markdown",
   "metadata": {},
   "source": [
    "### Cutting Number of Labels Possible to 256 if Necessary"
   ]
  },
  {
   "cell_type": "code",
   "execution_count": 261,
   "metadata": {},
   "outputs": [],
   "source": [
    "inputs = inputs[0:256]\n",
    "inputs = np.repeat(inputs, 20, axis=0)\n",
    "inputs = np.random.permutation(inputs)\n",
    "flattened_inputs = flattened_inputs[0:256]\n",
    "flattened_inputs = np.repeat(flattened_inputs, 20, 0)\n",
    "flattened_inputs = np.random.permutation(flattened_inputs)\n",
    "\n",
    "num_inputs = flattened_inputs.shape[0]\n"
   ]
  },
  {
   "cell_type": "markdown",
   "metadata": {},
   "source": [
    "### Adding Noise to Inputs"
   ]
  },
  {
   "cell_type": "code",
   "execution_count": 174,
   "metadata": {},
   "outputs": [],
   "source": [
    "for n in range(np.shape(flattened_inputs)[0]):\n",
    "    indices_to_flip = np.random.choice(int(size*size), math.ceil(size*size * noise), replace = False)\n",
    "    flattened_inputs[n][indices_to_flip] = 1 - flattened_inputs[n][indices_to_flip]\n",
    "\n",
    "inputs = flattened_inputs.reshape(num_inputs, size, size, 1)\n"
   ]
  },
  {
   "cell_type": "markdown",
   "metadata": {},
   "source": [
    "### Building Network"
   ]
  },
  {
   "cell_type": "code",
   "execution_count": 175,
   "metadata": {},
   "outputs": [
    {
     "name": "stdout",
     "output_type": "stream",
     "text": [
      "_________________________________________________________________\n",
      "Layer (type)                 Output Shape              Param #   \n",
      "=================================================================\n",
      "conv2d_26 (Conv2D)           (None, 1, 1, 256)         65792     \n",
      "_________________________________________________________________\n",
      "flatten_26 (Flatten)         (None, 256)               0         \n",
      "_________________________________________________________________\n",
      "dense_26 (Dense)             (None, 256)               65792     \n",
      "=================================================================\n",
      "Total params: 131,584\n",
      "Trainable params: 131,584\n",
      "Non-trainable params: 0\n",
      "_________________________________________________________________\n"
     ]
    }
   ],
   "source": [
    "model = Sequential()\n",
    "model.add(Conv2D(input_shape = (16,16,1), filters=256, kernel_size = RF_size, strides = RF_size, activation = 'relu'))\n",
    "model.add(Flatten())\n",
    "model.add(Dense(256, activation = 'softmax'))\n",
    "\n",
    "model.summary()"
   ]
  },
  {
   "cell_type": "code",
   "execution_count": 176,
   "metadata": {},
   "outputs": [],
   "source": [
    "model.compile(optimizer = optimizers.adam(lr = 0.001), loss = 'categorical_crossentropy', metrics=['accuracy'])"
   ]
  },
  {
   "cell_type": "code",
   "execution_count": 177,
   "metadata": {},
   "outputs": [
    {
     "name": "stdout",
     "output_type": "stream",
     "text": [
      "Train on 3750 samples, validate on 1250 samples\n",
      "Epoch 1/100\n",
      "3750/3750 [==============================] - 2s 509us/step - loss: 5.5568 - acc: 0.0051 - val_loss: 5.5558 - val_acc: 0.0048\n",
      "Epoch 2/100\n",
      "3750/3750 [==============================] - 1s 192us/step - loss: 5.5069 - acc: 0.0080 - val_loss: 5.5824 - val_acc: 0.0032\n",
      "Epoch 3/100\n",
      "3750/3750 [==============================] - 1s 174us/step - loss: 5.4777 - acc: 0.0096 - val_loss: 5.5875 - val_acc: 0.0040\n",
      "Epoch 4/100\n",
      "3750/3750 [==============================] - 1s 167us/step - loss: 5.4435 - acc: 0.0112 - val_loss: 5.5869 - val_acc: 0.0024\n",
      "Epoch 5/100\n",
      "3750/3750 [==============================] - 1s 187us/step - loss: 5.4052 - acc: 0.0189 - val_loss: 5.6116 - val_acc: 0.0048\n",
      "Epoch 6/100\n",
      "3750/3750 [==============================] - 1s 296us/step - loss: 5.3672 - acc: 0.0192 - val_loss: 5.6113 - val_acc: 0.0048\n",
      "Epoch 7/100\n",
      "3750/3750 [==============================] - 2s 462us/step - loss: 5.3213 - acc: 0.0309 - val_loss: 5.6091 - val_acc: 0.0024\n",
      "Epoch 8/100\n",
      "3750/3750 [==============================] - 1s 398us/step - loss: 5.2710 - acc: 0.0432 - val_loss: 5.6307 - val_acc: 0.0040\n",
      "Epoch 9/100\n",
      "3750/3750 [==============================] - 1s 313us/step - loss: 5.2134 - acc: 0.0507 - val_loss: 5.6660 - val_acc: 0.0032\n",
      "Epoch 10/100\n",
      "3750/3750 [==============================] - 1s 272us/step - loss: 5.1490 - acc: 0.0651 - val_loss: 5.6560 - val_acc: 0.0024\n",
      "Epoch 11/100\n",
      "3750/3750 [==============================] - 1s 309us/step - loss: 5.0755 - acc: 0.0819 - val_loss: 5.6673 - val_acc: 0.0040\n",
      "Epoch 12/100\n",
      "3750/3750 [==============================] - 1s 253us/step - loss: 4.9940 - acc: 0.0965 - val_loss: 5.6862 - val_acc: 0.0048\n",
      "Epoch 13/100\n",
      "3750/3750 [==============================] - 1s 361us/step - loss: 4.9066 - acc: 0.1000 - val_loss: 5.6990 - val_acc: 0.0040\n",
      "Epoch 14/100\n",
      "3750/3750 [==============================] - 1s 361us/step - loss: 4.8107 - acc: 0.1301 - val_loss: 5.7099 - val_acc: 0.0064\n",
      "Epoch 15/100\n",
      "3750/3750 [==============================] - 1s 366us/step - loss: 4.7116 - acc: 0.1373 - val_loss: 5.7303 - val_acc: 0.0048\n",
      "Epoch 16/100\n",
      "3750/3750 [==============================] - 1s 246us/step - loss: 4.6098 - acc: 0.1659 - val_loss: 5.8019 - val_acc: 0.0040\n",
      "Epoch 17/100\n",
      "3750/3750 [==============================] - 1s 216us/step - loss: 4.5103 - acc: 0.1805 - val_loss: 5.8245 - val_acc: 0.0048\n",
      "Epoch 18/100\n",
      "3750/3750 [==============================] - 1s 241us/step - loss: 4.4012 - acc: 0.1976 - val_loss: 5.8554 - val_acc: 0.0056\n",
      "Epoch 19/100\n",
      "3750/3750 [==============================] - 1s 267us/step - loss: 4.3008 - acc: 0.1925 - val_loss: 5.9013 - val_acc: 0.0032\n",
      "Epoch 20/100\n",
      "3750/3750 [==============================] - 1s 263us/step - loss: 4.1952 - acc: 0.2251 - val_loss: 5.9484 - val_acc: 0.0032\n",
      "Epoch 21/100\n",
      "3750/3750 [==============================] - 1s 240us/step - loss: 4.0908 - acc: 0.2368 - val_loss: 6.0088 - val_acc: 0.0056\n",
      "Epoch 22/100\n",
      "3750/3750 [==============================] - 1s 277us/step - loss: 3.9908 - acc: 0.2499 - val_loss: 6.0446 - val_acc: 0.0056\n",
      "Epoch 23/100\n",
      "3750/3750 [==============================] - 1s 219us/step - loss: 3.8924 - acc: 0.2680 - val_loss: 6.1021 - val_acc: 0.0056\n",
      "Epoch 24/100\n",
      "3750/3750 [==============================] - 1s 234us/step - loss: 3.7973 - acc: 0.2845 - val_loss: 6.1774 - val_acc: 0.0040\n",
      "Epoch 25/100\n",
      "3750/3750 [==============================] - 1s 230us/step - loss: 3.7089 - acc: 0.2931 - val_loss: 6.2236 - val_acc: 0.0048\n",
      "Epoch 26/100\n",
      "3750/3750 [==============================] - 1s 267us/step - loss: 3.6193 - acc: 0.2992 - val_loss: 6.2957 - val_acc: 0.0040\n",
      "Epoch 27/100\n",
      "3750/3750 [==============================] - 1s 272us/step - loss: 3.5341 - acc: 0.3093 - val_loss: 6.3738 - val_acc: 0.0040\n",
      "Epoch 28/100\n",
      "3750/3750 [==============================] - 1s 259us/step - loss: 3.4568 - acc: 0.3208 - val_loss: 6.4258 - val_acc: 0.0048\n",
      "Epoch 29/100\n",
      "3750/3750 [==============================] - 1s 250us/step - loss: 3.3706 - acc: 0.3344 - val_loss: 6.5027 - val_acc: 0.0072\n",
      "Epoch 30/100\n",
      "3750/3750 [==============================] - 1s 237us/step - loss: 3.3019 - acc: 0.3389 - val_loss: 6.5537 - val_acc: 0.0088\n",
      "Epoch 31/100\n",
      "3750/3750 [==============================] - 1s 246us/step - loss: 3.2276 - acc: 0.3624 - val_loss: 6.6201 - val_acc: 0.0056\n",
      "Epoch 32/100\n",
      "3750/3750 [==============================] - 1s 267us/step - loss: 3.1707 - acc: 0.3507 - val_loss: 6.6879 - val_acc: 0.0040\n",
      "Epoch 33/100\n",
      "3750/3750 [==============================] - 1s 221us/step - loss: 3.0939 - acc: 0.3741 - val_loss: 6.7559 - val_acc: 0.0072\n",
      "Epoch 34/100\n",
      "3750/3750 [==============================] - 1s 203us/step - loss: 3.0302 - acc: 0.3787 - val_loss: 6.8232 - val_acc: 0.0104\n",
      "Epoch 35/100\n",
      "3750/3750 [==============================] - 1s 221us/step - loss: 2.9744 - acc: 0.3901 - val_loss: 6.8970 - val_acc: 0.0088\n",
      "Epoch 36/100\n",
      "3750/3750 [==============================] - 1s 205us/step - loss: 2.9147 - acc: 0.4019 - val_loss: 6.9811 - val_acc: 0.0056\n",
      "Epoch 37/100\n",
      "3750/3750 [==============================] - 1s 226us/step - loss: 2.8538 - acc: 0.4123 - val_loss: 7.0228 - val_acc: 0.0072\n",
      "Epoch 38/100\n",
      "3750/3750 [==============================] - 1s 223us/step - loss: 2.8023 - acc: 0.4197 - val_loss: 7.0997 - val_acc: 0.0072\n",
      "Epoch 39/100\n",
      "3750/3750 [==============================] - 1s 212us/step - loss: 2.7537 - acc: 0.4216 - val_loss: 7.1844 - val_acc: 0.0088\n",
      "Epoch 40/100\n",
      "3750/3750 [==============================] - 1s 218us/step - loss: 2.7050 - acc: 0.4363 - val_loss: 7.2399 - val_acc: 0.0080\n",
      "Epoch 41/100\n",
      "3750/3750 [==============================] - 1s 200us/step - loss: 2.6611 - acc: 0.4480 - val_loss: 7.2935 - val_acc: 0.0080\n",
      "Epoch 42/100\n",
      "3750/3750 [==============================] - 1s 205us/step - loss: 2.6119 - acc: 0.4533 - val_loss: 7.3691 - val_acc: 0.0080\n",
      "Epoch 43/100\n",
      "3750/3750 [==============================] - 1s 266us/step - loss: 2.5747 - acc: 0.4517 - val_loss: 7.4209 - val_acc: 0.0080\n",
      "Epoch 44/100\n",
      "3750/3750 [==============================] - 1s 291us/step - loss: 2.5314 - acc: 0.4648 - val_loss: 7.5158 - val_acc: 0.0080\n",
      "Epoch 45/100\n",
      "3750/3750 [==============================] - 1s 295us/step - loss: 2.4907 - acc: 0.4651 - val_loss: 7.5521 - val_acc: 0.0064\n",
      "Epoch 46/100\n",
      "3750/3750 [==============================] - 1s 297us/step - loss: 2.4510 - acc: 0.4757 - val_loss: 7.6284 - val_acc: 0.0080\n",
      "Epoch 47/100\n",
      "3750/3750 [==============================] - 1s 269us/step - loss: 2.4155 - acc: 0.4835 - val_loss: 7.6827 - val_acc: 0.0088\n",
      "Epoch 48/100\n",
      "3750/3750 [==============================] - 1s 288us/step - loss: 2.3769 - acc: 0.4909 - val_loss: 7.7525 - val_acc: 0.0088\n",
      "Epoch 49/100\n",
      "3750/3750 [==============================] - 1s 298us/step - loss: 2.3463 - acc: 0.4891 - val_loss: 7.8113 - val_acc: 0.0088\n",
      "Epoch 50/100\n",
      "3750/3750 [==============================] - 1s 218us/step - loss: 2.3077 - acc: 0.5048 - val_loss: 7.8588 - val_acc: 0.0080\n",
      "Epoch 51/100\n",
      "3750/3750 [==============================] - 1s 290us/step - loss: 2.2778 - acc: 0.5040 - val_loss: 7.9194 - val_acc: 0.0056\n",
      "Epoch 52/100\n",
      "3750/3750 [==============================] - 1s 233us/step - loss: 2.2379 - acc: 0.5165 - val_loss: 7.9972 - val_acc: 0.0080\n",
      "Epoch 53/100\n",
      "3750/3750 [==============================] - 1s 231us/step - loss: 2.2140 - acc: 0.5187 - val_loss: 8.0459 - val_acc: 0.0072\n",
      "Epoch 54/100\n",
      "3750/3750 [==============================] - 1s 219us/step - loss: 2.1752 - acc: 0.5283 - val_loss: 8.1198 - val_acc: 0.0072\n",
      "Epoch 55/100\n",
      "3750/3750 [==============================] - 1s 226us/step - loss: 2.1462 - acc: 0.5312 - val_loss: 8.1699 - val_acc: 0.0088\n",
      "Epoch 56/100\n",
      "3750/3750 [==============================] - 1s 247us/step - loss: 2.1190 - acc: 0.5467 - val_loss: 8.2330 - val_acc: 0.0072\n",
      "Epoch 57/100\n",
      "3750/3750 [==============================] - 1s 302us/step - loss: 2.0846 - acc: 0.5483 - val_loss: 8.2855 - val_acc: 0.0080\n",
      "Epoch 58/100\n",
      "3750/3750 [==============================] - 1s 222us/step - loss: 2.0623 - acc: 0.5549 - val_loss: 8.3598 - val_acc: 0.0080\n",
      "Epoch 59/100\n",
      "3750/3750 [==============================] - 1s 232us/step - loss: 2.0361 - acc: 0.5552 - val_loss: 8.4292 - val_acc: 0.0072\n",
      "Epoch 60/100\n"
     ]
    },
    {
     "name": "stdout",
     "output_type": "stream",
     "text": [
      "3750/3750 [==============================] - 1s 242us/step - loss: 2.0099 - acc: 0.5635 - val_loss: 8.4762 - val_acc: 0.0080\n",
      "Epoch 61/100\n",
      "3750/3750 [==============================] - 1s 226us/step - loss: 1.9799 - acc: 0.5685 - val_loss: 8.5289 - val_acc: 0.0080\n",
      "Epoch 62/100\n",
      "3750/3750 [==============================] - 1s 198us/step - loss: 1.9509 - acc: 0.5739 - val_loss: 8.5904 - val_acc: 0.0096\n",
      "Epoch 63/100\n",
      "3750/3750 [==============================] - 1s 199us/step - loss: 1.9263 - acc: 0.5829 - val_loss: 8.6529 - val_acc: 0.0072\n",
      "Epoch 64/100\n",
      "3750/3750 [==============================] - 1s 185us/step - loss: 1.9036 - acc: 0.5805 - val_loss: 8.7100 - val_acc: 0.0064\n",
      "Epoch 65/100\n",
      "3750/3750 [==============================] - 1s 211us/step - loss: 1.8804 - acc: 0.5933 - val_loss: 8.7895 - val_acc: 0.0088\n",
      "Epoch 66/100\n",
      "3750/3750 [==============================] - 1s 199us/step - loss: 1.8578 - acc: 0.5920 - val_loss: 8.8439 - val_acc: 0.0080\n",
      "Epoch 67/100\n",
      "3750/3750 [==============================] - 1s 203us/step - loss: 1.8375 - acc: 0.5965 - val_loss: 8.9029 - val_acc: 0.0064\n",
      "Epoch 68/100\n",
      "3750/3750 [==============================] - 1s 197us/step - loss: 1.8147 - acc: 0.6059 - val_loss: 8.9637 - val_acc: 0.0064\n",
      "Epoch 69/100\n",
      "3750/3750 [==============================] - 1s 221us/step - loss: 1.7970 - acc: 0.6139 - val_loss: 9.0293 - val_acc: 0.0072\n",
      "Epoch 70/100\n",
      "3750/3750 [==============================] - 1s 205us/step - loss: 1.7659 - acc: 0.6165 - val_loss: 9.0740 - val_acc: 0.0072\n",
      "Epoch 71/100\n",
      "3750/3750 [==============================] - 1s 243us/step - loss: 1.7435 - acc: 0.6267 - val_loss: 9.1538 - val_acc: 0.0064\n",
      "Epoch 72/100\n",
      "3750/3750 [==============================] - 1s 194us/step - loss: 1.7202 - acc: 0.6347 - val_loss: 9.2064 - val_acc: 0.0072\n",
      "Epoch 73/100\n",
      "3750/3750 [==============================] - 1s 257us/step - loss: 1.7004 - acc: 0.6395 - val_loss: 9.2489 - val_acc: 0.0072\n",
      "Epoch 74/100\n",
      "3750/3750 [==============================] - 1s 214us/step - loss: 1.6784 - acc: 0.6368 - val_loss: 9.3256 - val_acc: 0.0072\n",
      "Epoch 75/100\n",
      "3750/3750 [==============================] - 1s 210us/step - loss: 1.6636 - acc: 0.6440 - val_loss: 9.3813 - val_acc: 0.0064\n",
      "Epoch 76/100\n",
      "3750/3750 [==============================] - 1s 218us/step - loss: 1.6461 - acc: 0.6464 - val_loss: 9.4538 - val_acc: 0.0064\n",
      "Epoch 77/100\n",
      "3750/3750 [==============================] - 1s 297us/step - loss: 1.6245 - acc: 0.6544 - val_loss: 9.4818 - val_acc: 0.0072\n",
      "Epoch 78/100\n",
      "3750/3750 [==============================] - 1s 217us/step - loss: 1.5990 - acc: 0.6664 - val_loss: 9.5340 - val_acc: 0.0064\n",
      "Epoch 79/100\n",
      "3750/3750 [==============================] - 1s 189us/step - loss: 1.5832 - acc: 0.6675 - val_loss: 9.6083 - val_acc: 0.0080\n",
      "Epoch 80/100\n",
      "3750/3750 [==============================] - ETA: 0s - loss: 1.5611 - acc: 0.671 - 1s 226us/step - loss: 1.5604 - acc: 0.6715 - val_loss: 9.6586 - val_acc: 0.0088\n",
      "Epoch 81/100\n",
      "3750/3750 [==============================] - 1s 230us/step - loss: 1.5466 - acc: 0.6773 - val_loss: 9.7310 - val_acc: 0.0064\n",
      "Epoch 82/100\n",
      "3750/3750 [==============================] - 1s 223us/step - loss: 1.5293 - acc: 0.6819 - val_loss: 9.7644 - val_acc: 0.0064\n",
      "Epoch 83/100\n",
      "3750/3750 [==============================] - 1s 226us/step - loss: 1.5044 - acc: 0.6909 - val_loss: 9.8428 - val_acc: 0.0072\n",
      "Epoch 84/100\n",
      "3750/3750 [==============================] - 1s 237us/step - loss: 1.4908 - acc: 0.6925 - val_loss: 9.8933 - val_acc: 0.0072\n",
      "Epoch 85/100\n",
      "3750/3750 [==============================] - 1s 211us/step - loss: 1.4783 - acc: 0.6960 - val_loss: 9.9435 - val_acc: 0.0072\n",
      "Epoch 86/100\n",
      "3750/3750 [==============================] - 1s 203us/step - loss: 1.4576 - acc: 0.7067 - val_loss: 9.9953 - val_acc: 0.0080\n",
      "Epoch 87/100\n",
      "3750/3750 [==============================] - 1s 202us/step - loss: 1.4313 - acc: 0.7091 - val_loss: 10.0676 - val_acc: 0.0064\n",
      "Epoch 88/100\n",
      "3750/3750 [==============================] - 1s 215us/step - loss: 1.4288 - acc: 0.7107 - val_loss: 10.1136 - val_acc: 0.0072\n",
      "Epoch 89/100\n",
      "3750/3750 [==============================] - 1s 178us/step - loss: 1.4063 - acc: 0.7192 - val_loss: 10.1580 - val_acc: 0.0072\n",
      "Epoch 90/100\n",
      "3750/3750 [==============================] - 1s 193us/step - loss: 1.3917 - acc: 0.7243 - val_loss: 10.2117 - val_acc: 0.0072\n",
      "Epoch 91/100\n",
      "3750/3750 [==============================] - 1s 233us/step - loss: 1.3708 - acc: 0.7323 - val_loss: 10.2581 - val_acc: 0.0072\n",
      "Epoch 92/100\n",
      "3750/3750 [==============================] - 1s 242us/step - loss: 1.3544 - acc: 0.7320 - val_loss: 10.3148 - val_acc: 0.0080\n",
      "Epoch 93/100\n",
      "3750/3750 [==============================] - 1s 214us/step - loss: 1.3381 - acc: 0.7429 - val_loss: 10.3777 - val_acc: 0.0064\n",
      "Epoch 94/100\n",
      "3750/3750 [==============================] - 1s 211us/step - loss: 1.3277 - acc: 0.7376 - val_loss: 10.4137 - val_acc: 0.0064\n",
      "Epoch 95/100\n",
      "3750/3750 [==============================] - 1s 288us/step - loss: 1.3123 - acc: 0.7493 - val_loss: 10.4689 - val_acc: 0.0064\n",
      "Epoch 96/100\n",
      "3750/3750 [==============================] - 1s 193us/step - loss: 1.2963 - acc: 0.7523 - val_loss: 10.5475 - val_acc: 0.0072\n",
      "Epoch 97/100\n",
      "3750/3750 [==============================] - 1s 203us/step - loss: 1.2793 - acc: 0.7571 - val_loss: 10.5782 - val_acc: 0.0080\n",
      "Epoch 98/100\n",
      "3750/3750 [==============================] - 1s 219us/step - loss: 1.2704 - acc: 0.7565 - val_loss: 10.6438 - val_acc: 0.0072\n",
      "Epoch 99/100\n",
      "3750/3750 [==============================] - 1s 233us/step - loss: 1.2506 - acc: 0.7624 - val_loss: 10.6830 - val_acc: 0.0064\n",
      "Epoch 100/100\n",
      "3750/3750 [==============================] - 1s 223us/step - loss: 1.2359 - acc: 0.7696 - val_loss: 10.7314 - val_acc: 0.0072\n"
     ]
    }
   ],
   "source": [
    "history = model.fit(x = inputs, validation_split = 0.25, y = labels, batch_size = 100, epochs = 100, shuffle=True)"
   ]
  },
  {
   "cell_type": "code",
   "execution_count": 178,
   "metadata": {},
   "outputs": [
    {
     "name": "stdout",
     "output_type": "stream",
     "text": [
      "dict_keys(['val_loss', 'val_acc', 'loss', 'acc'])\n"
     ]
    },
    {
     "data": {
      "image/png": "[encoded data removed]",
      "text/plain": [
       "<matplotlib.figure.Figure at 0x2271495fcc0>"
      ]
     },
     "metadata": {},
     "output_type": "display_data"
    },
    {
     "data": {
      "image/png": "[encoded data removed]",
      "text/plain": [
       "<matplotlib.figure.Figure at 0x22714986828>"
      ]
     },
     "metadata": {},
     "output_type": "display_data"
    }
   ],
   "source": [
    "print(history.history.keys())\n",
    "# summarize history for accuracy\n",
    "plt.plot(history.history['acc'])\n",
    "plt.plot(history.history['val_acc'])\n",
    "plt.title('model accuracy')\n",
    "plt.ylabel('accuracy')\n",
    "plt.xlabel('epoch')\n",
    "plt.legend(['train', 'test'], loc='upper left')\n",
    "plt.show()\n",
    "# summarize history for loss\n",
    "plt.plot(history.history['loss'])\n",
    "plt.plot(history.history['val_loss'])\n",
    "plt.title('model loss')\n",
    "plt.ylabel('loss')\n",
    "plt.xlabel('epoch')\n",
    "plt.legend(['train', 'test'], loc='upper left')\n",
    "plt.show()"
   ]
  },
  {
   "cell_type": "markdown",
   "metadata": {},
   "source": [
    "### TODOS\n",
    "* Run again with 2x2, 3x3, 4x4, 5x5, 6x6, 7x7, 8x8 and 10%, 20%, 30%, 40%, 50% noise. Save outputs and Loss curve\n",
    "* Controls - Work on creating image sets of specific submatrix pattern size (3*3) that have varying levels of MI\n",
    "* Find Image dataset that's binarized (or binarize existing one) and do MI calculations to find max MI. To do this, sample RF sized chunks of an image until stable average MI value is reached\n",
    "* https://people.cs.umass.edu/~marlin/data.shtml, http://vision.lems.brown.edu/content/available-software-and-databases"
   ]
  }
 ],
 "metadata": {
  "kernelspec": {
   "display_name": "Python 3",
   "language": "python",
   "name": "python3"
  },
  "language_info": {
   "codemirror_mode": {
    "name": "ipython",
    "version": 3
   },
   "file_extension": ".py",
   "mimetype": "text/x-python",
   "name": "python",
   "nbconvert_exporter": "python",
   "pygments_lexer": "ipython3",
   "version": "3.6.4"
  }
 },
 "nbformat": 4,
 "nbformat_minor": 2
}
