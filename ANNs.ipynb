{
 "cells": [
  {
   "cell_type": "code",
   "execution_count": 1,
   "metadata": {},
   "outputs": [
    {
     "name": "stderr",
     "output_type": "stream",
     "text": [
      "C:\\Users\\Tom\\Anaconda3\\lib\\site-packages\\h5py\\__init__.py:36: FutureWarning: Conversion of the second argument of issubdtype from `float` to `np.floating` is deprecated. In future, it will be treated as `np.float64 == np.dtype(float).type`.\n",
      "  from ._conv import register_converters as _register_converters\n",
      "Using TensorFlow backend.\n"
     ]
    }
   ],
   "source": [
    "import keras\n",
    "from keras.models import Sequential\n",
    "from keras.layers import Dense"
   ]
  },
  {
   "cell_type": "code",
   "execution_count": 2,
   "metadata": {},
   "outputs": [],
   "source": [
    "from keras import backend as K\n",
    "from keras.engine.topology import Layer\n",
    "\n",
    "import numpy as np\n",
    "import tensorflow as tf\n",
    "\n",
    "np.set_printoptions(threshold=np.nan)\n",
    "\n",
    "sess = tf.Session()\n",
    "\n",
    "\n",
    "class Hebbian(Layer):\n",
    "    \n",
    "    \n",
    "    def __init__(self, output_dim, lmbda=1.0, eta=0.0005, connectivity='random', connectivity_prob=0.25, **kwargs):\n",
    "        '''\n",
    "        Constructor for the Hebbian learning layer.\n",
    "\n",
    "        args:\n",
    "            output_dim - The shape of the output / activations computed by the layer.\n",
    "            lambda - A floating-point valued parameter governing the strength of the Hebbian learning activation.\n",
    "            eta - A floating-point valued parameter governing the Hebbian learning rate.\n",
    "            connectivity - A string which determines the way in which the neurons in this layer are connected to\n",
    "                the neurons in the previous layer.\n",
    "        '''\n",
    "        self.output_dim = output_dim\n",
    "        self.lmbda = lmbda\n",
    "        self.eta = eta\n",
    "        self.connectivity = connectivity\n",
    "        self.connectivity_prob = connectivity_prob\n",
    "\n",
    "        super(Hebbian, self).__init__(**kwargs)\n",
    "        \n",
    "    \n",
    "    \n",
    "    def random_conn_init(self, shape, dtype=None):\n",
    "        A = np.random.normal(0, 1, shape)\n",
    "        A[self.B] = 0\n",
    "        return tf.constant(A, dtype=tf.float32)\n",
    "\n",
    "\n",
    "    def zero_init(self, shape, dtype=None):\n",
    "        return np.zeros(shape)\n",
    "\n",
    "\n",
    "    def build(self, input_shape):\n",
    "        # create weight variable for this layer according to user-specified initialization\n",
    "        if self.connectivity == 'random':\n",
    "            self.B = np.random.random(input_shape[0]) < self.connectivity_prob\n",
    "        elif self.connectivity == 'zero':\n",
    "            self.B = np.zeros(self.output_dim)\n",
    "            \n",
    "        if self.connectivity == 'all':\n",
    "            self.kernel = self.add_weight(name='kernel', shape=(np.prod(input_shape[1:]), \\\n",
    "                        np.prod(self.output_dim)), initializer='uniform', trainable=False)\n",
    "        elif self.connectivity == 'random':\n",
    "            self.kernel = self.add_weight(name='kernel', shape=(np.prod(input_shape[1:]), \\\n",
    "                        np.prod(self.output_dim)), initializer=self.random_conn_init, trainable=False)\n",
    "        elif self.connectivity == 'zero':\n",
    "            self.kernel = self.add_weight(name='kernel', shape=(np.prod(input_shape[1:]), \\\n",
    "                        np.prod(self.output_dim)), initializer=self.zero_init, trainable=False)\n",
    "        else:\n",
    "            raise NotImplementedError\n",
    "\n",
    "\n",
    "        # call superclass \"build\" function\n",
    "        super(Hebbian, self).build(input_shape)\n",
    "\n",
    "\n",
    "    def call(self, x):\n",
    "        x_shape = tf.shape(x)\n",
    "        batch_size = tf.shape(x)[0]\n",
    "\n",
    "        # reshape to (batch_size, product of other dimensions) shape\n",
    "        x = tf.reshape(x, (tf.reduce_prod(x_shape[1:]), batch_size))\n",
    "\n",
    "        # compute activations using Hebbian-like update rule\n",
    "        activations = x + self.lmbda * tf.matmul(self.kernel, x)  # why \"x +\", should this be removed?\n",
    "\n",
    "        # compute outer product of activations matrix with itself\n",
    "        outer_product = tf.matmul(tf.expand_dims(x, 1), tf.expand_dims(x, 0))  # Why outer product? Should this line be removed?\n",
    "\n",
    "        # update the weight matrix of this layer\n",
    "        self.kernel = self.kernel + tf.multiply(self.eta, tf.reduce_mean(outer_product, axis=2)) # Still why outer prod?\n",
    "        self.kernel = tf.multiply(self.kernel, self.B) # zeroing node connections that are meant to be zeros\n",
    "        return K.reshape(activations, x_shape)\n",
    "\n",
    "        \n",
    "        \n"
   ]
  },
  {
   "cell_type": "code",
   "execution_count": 3,
   "metadata": {},
   "outputs": [],
   "source": [
    "model = Sequential()\n",
    "model.add(Hebbian(input_shape = (256,1), output_dim = 24))"
   ]
  },
  {
   "cell_type": "code",
   "execution_count": 4,
   "metadata": {},
   "outputs": [],
   "source": [
    "model.compile(loss='mse', optimizer='adam')"
   ]
  },
  {
   "cell_type": "code",
   "execution_count": null,
   "metadata": {},
   "outputs": [],
   "source": []
  }
 ],
 "metadata": {
  "kernelspec": {
   "display_name": "Python 3",
   "language": "python",
   "name": "python3"
  },
  "language_info": {
   "codemirror_mode": {
    "name": "ipython",
    "version": 3
   },
   "file_extension": ".py",
   "mimetype": "text/x-python",
   "name": "python",
   "nbconvert_exporter": "python",
   "pygments_lexer": "ipython3",
   "version": "3.6.4"
  }
 },
 "nbformat": 4,
 "nbformat_minor": 2
}
